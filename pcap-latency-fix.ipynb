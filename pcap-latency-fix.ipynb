{
 "cells": [
  {
   "cell_type": "code",
   "execution_count": 36,
   "id": "d06218ba-5d2b-402a-824e-836d43941269",
   "metadata": {},
   "outputs": [
    {
     "name": "stdout",
     "output_type": "stream",
     "text": [
      "Defaulting to user installation because normal site-packages is not writeable\n",
      "Requirement already satisfied: scapy in /home/andy/.local/lib/python3.10/site-packages (2.5.0)\n",
      "Defaulting to user installation because normal site-packages is not writeable\n",
      "Requirement already satisfied: hdrhistogram in /home/andy/.local/lib/python3.10/site-packages (0.10.3)\n",
      "Requirement already satisfied: pbr>=1.4 in /home/andy/.local/lib/python3.10/site-packages (from hdrhistogram) (6.0.0)\n",
      "Defaulting to user installation because normal site-packages is not writeable\n",
      "Collecting tzlocal\n",
      "  Downloading tzlocal-5.2-py3-none-any.whl (17 kB)\n",
      "Installing collected packages: tzlocal\n",
      "Successfully installed tzlocal-5.2\n"
     ]
    }
   ],
   "source": [
    "!pip install scapy\n",
    "!pip install hdrhistogram\n",
    "!pip install tzlocal"
   ]
  },
  {
   "cell_type": "code",
   "execution_count": 10,
   "id": "13c92729-6b9c-4655-9b8e-05ffd01eac07",
   "metadata": {},
   "outputs": [
    {
     "name": "stdout",
     "output_type": "stream",
     "text": [
      "This will take some time... Python PCAP library is slow...\n",
      "Total packets found: 422076\n"
     ]
    }
   ],
   "source": [
    "from scapy.all import rdpcap\n",
    "\n",
    "print(f\"This will take some time... Python PCAP library is slow...\")\n",
    "file_path = '/mnt/e/TecVal-Latency-Captures/fix-traffic-on-port-10001-7.5k.pcap'   #fix-traffic-port10001.pcap\n",
    "packets = rdpcap(file_path)\n",
    "print(f\"Total packets found: {len(packets)}\")"
   ]
  },
  {
   "cell_type": "code",
   "execution_count": 11,
   "id": "e82c6d69-867c-4609-ab7c-776f8b7db175",
   "metadata": {},
   "outputs": [],
   "source": [
    "import re\n",
    "from datetime import datetime, timezone, timedelta\n",
    "from hdrh.histogram import HdrHistogram\n",
    "import pytz\n",
    "import tzlocal\n",
    "\n",
    "# Function to extract FIX tags from a message\n",
    "def extract_fix_tags(fix_message):\n",
    "    tags = {}\n",
    "    # Split the message by SOH (Start of Header) character\n",
    "    fields = fix_message.split('\\x01')\n",
    "    for field in fields:\n",
    "        if '=' in field:\n",
    "            tag, value = field.split('=', 1)\n",
    "            tags[tag] = value\n",
    "    return tags\n",
    "\n",
    "# Function to convert FIX UTCTimestamp to a Python datetime object\n",
    "def convert_to_datetime(fix_timestamp):\n",
    "    print(f\"extracting timestamp from \" + fix_timestamp)\n",
    "    try:\n",
    "        return datetime.strptime(fix_timestamp, \"%Y%m%d-%H:%M:%S.%f\")\n",
    "    except ValueError:\n",
    "        return datetime.strptime(fix_timestamp, \"%Y%m%d-%H:%M:%S\")\n",
    "\n",
    "def delta_nanos (epoch_seconds1, nanoseconds1, epoch_seconds2, nanoseconds2):\n",
    "    delta_seconds = epoch_seconds1 - epoch_seconds2\n",
    "    delta_nanos = nanoseconds1 - nanoseconds2\n",
    "    return delta_seconds*1000000000 + delta_nanos\n",
    "\n",
    "# Converts date and time specified in UTCTimestamp format \"YYYYMMDD-HH:MM:SS.nnnnnnnnn\" to epoch seconds and nanoseconds\n",
    "def fix_timestamp_to_epoch_nano(utctimestamp):\n",
    "    timestamp_parts = utctimestamp.split('.')\n",
    "    timestamp_without_nano = timestamp_parts[0]\n",
    "    nanoseconds = int(timestamp_parts[1]) if len(timestamp_parts) > 1 else 0\n",
    "    epoch_seconds = int(datetime.strptime(timestamp_without_nano, \"%Y%m%d-%H:%M:%S\").timestamp())\n",
    "    return (epoch_seconds, nanoseconds)\n",
    "\n",
    "def get_utc_offset_seconds():\n",
    "    utc_now = datetime.now(pytz.utc)\n",
    "    local_tz = tzlocal.get_localzone()\n",
    "    local_now = datetime.now(local_tz)\n",
    "\n",
    "    return int(local_tz.utcoffset(local_now).total_seconds())\n",
    "\n",
    "UTC_OFFSET_SECONDS = get_utc_offset_seconds()\n",
    "\n",
    "def packet_time(packet_timestamp):\n",
    "    seconds = int(packet_timestamp)\n",
    "    fractional_part = packet_timestamp - seconds\n",
    "    nanoseconds = int(fractional_part*1000000000)\n",
    "    #print(f\"{packet_timestamp} => seconds: {seconds}, nanos: {nanoseconds}\")\n",
    "    return (seconds - UTC_OFFSET_SECONDS, nanoseconds)"
   ]
  },
  {
   "cell_type": "code",
   "execution_count": 12,
   "id": "b5d7d6cf-391f-49e7-b1fb-f595443c6e5a",
   "metadata": {},
   "outputs": [
    {
     "name": "stdout",
     "output_type": "stream",
     "text": [
      "Total FIX messages processed: 282962\n",
      "P0     Latency: 0.36 ms\n",
      "P25    Latency: 0.89 ms\n",
      "P50    Latency: 1.10 ms\n",
      "P90    Latency: 1.49 ms\n",
      "P99    Latency: 1.67 ms\n",
      "P999   Latency: 1.76 ms\n",
      "P9999  Latency: 2.66 ms\n",
      "P99999 Latency: 4.17 ms\n",
      "P100   Latency: 4.53 ms\n"
     ]
    }
   ],
   "source": [
    "##################################################################################################\n",
    "# from TransactTime(60) until SendingTime(52)\n",
    "##################################################################################################\n",
    "histogram = HdrHistogram(1, 10**9, significant_figures=3)  # From 1 ns to 1 sec in ns\n",
    "\n",
    "for packet in packets:\n",
    "    if packet.haslayer('Raw'):\n",
    "        raw_data = packet['Raw'].load.decode('ascii', errors='ignore')\n",
    "        if raw_data.startswith(\"8=FIXT\"):\n",
    "            fix_tags = extract_fix_tags(raw_data)\n",
    "            if '52' in fix_tags and '60' in fix_tags:\n",
    "                sending_time = fix_tags['52']\n",
    "                sending_time_seconds,sending_time_nanos = fix_timestamp_to_epoch_nano(sending_time)\n",
    "                transact_time = fix_tags['60']\n",
    "                transact_time_seconds,transact_time_nanos = fix_timestamp_to_epoch_nano(transact_time)\n",
    "                packet_time_seconds,packet_time_nanos = packet_time(packet.time)\n",
    "                timestamp_delta = delta_nanos(sending_time_seconds, sending_time_nanos, transact_time_seconds, transact_time_nanos)\n",
    "                histogram.record_value(timestamp_delta)\n",
    "\n",
    "#TODO:\n",
    "NANOS_IN_MILLI = 1_000_000\n",
    "\n",
    "# Fetch latency values\n",
    "total_count = histogram.get_total_count()\n",
    "latencies = {\n",
    "    'P0': histogram.get_value_at_percentile(0),\n",
    "    'P25': histogram.get_value_at_percentile(25),\n",
    "    'P50': histogram.get_value_at_percentile(50),\n",
    "    'P90': histogram.get_value_at_percentile(90),\n",
    "    'P99': histogram.get_value_at_percentile(99),\n",
    "    'P999': histogram.get_value_at_percentile(99.9),\n",
    "    'P9999': histogram.get_value_at_percentile(99.99),\n",
    "    'P99999': histogram.get_value_at_percentile(99.999),\n",
    "    'P100': histogram.get_value_at_percentile(100)\n",
    "}\n",
    "\n",
    "# Convert nanoseconds to milliseconds\n",
    "latencies_ms = {k: v / NANOS_IN_MILLI for k, v in latencies.items()}\n",
    "\n",
    "# Output results\n",
    "print(f\"Total FIX messages processed: {total_count}\")\n",
    "for percentile, latency in latencies_ms.items():\n",
    "    print(f\"{percentile:<6} Latency: {latency:.2f} ms\")"
   ]
  },
  {
   "cell_type": "code",
   "execution_count": 13,
   "id": "263092c2-8280-4ea4-9685-fa24e6849c82",
   "metadata": {},
   "outputs": [
    {
     "name": "stdout",
     "output_type": "stream",
     "text": [
      "Total FIX messages processed: 282962\n",
      "P0     Latency: 0.53 ms\n",
      "P25    Latency: 1.21 ms\n",
      "P50    Latency: 1.41 ms\n",
      "P90    Latency: 1.79 ms\n",
      "P99    Latency: 2.04 ms\n",
      "P999   Latency: 2.18 ms\n",
      "P9999  Latency: 3.36 ms\n",
      "P99999 Latency: 4.80 ms\n",
      "P100   Latency: 5.03 ms\n"
     ]
    }
   ],
   "source": [
    "from decimal import Decimal, getcontext\n",
    "getcontext().prec = 30\n",
    "\n",
    "##################################################################################################\n",
    "# from TransactTime(60) until PCAP Packet Time\n",
    "##################################################################################################\n",
    "histogram = HdrHistogram(1, 10**9, significant_figures=3)  # From 1 ns to 1 sec in ns\n",
    "\n",
    "for packet in packets:\n",
    "    if packet.haslayer('Raw'):\n",
    "        raw_data = packet['Raw'].load.decode('ascii', errors='ignore')\n",
    "        if raw_data.startswith(\"8=FIXT\"):\n",
    "            fix_tags = extract_fix_tags(raw_data)\n",
    "            if '52' in fix_tags and '60' in fix_tags: # not really using tag 52\n",
    "                pcap_time_seconds,pcap_time_nanos = packet_time(packet.time)\n",
    "                transact_time = fix_tags['60']\n",
    "                transact_time_seconds,transact_time_nanos = fix_timestamp_to_epoch_nano(transact_time)\n",
    "                \n",
    "                timestamp_delta = delta_nanos(pcap_time_seconds, pcap_time_nanos, transact_time_seconds, transact_time_nanos)\n",
    "                histogram.record_value(timestamp_delta)\n",
    "\n",
    "\n",
    "#TODO:\n",
    "NANOS_IN_MILLI = 1_000_000\n",
    "\n",
    "# Fetch latency values\n",
    "total_count = histogram.get_total_count()\n",
    "latencies = {\n",
    "    'P0': histogram.get_value_at_percentile(0),\n",
    "    'P25': histogram.get_value_at_percentile(25),\n",
    "    'P50': histogram.get_value_at_percentile(50),\n",
    "    'P90': histogram.get_value_at_percentile(90),\n",
    "    'P99': histogram.get_value_at_percentile(99),\n",
    "    'P999': histogram.get_value_at_percentile(99.9),\n",
    "    'P9999': histogram.get_value_at_percentile(99.99),\n",
    "    'P99999': histogram.get_value_at_percentile(99.999),\n",
    "    'P100': histogram.get_value_at_percentile(100)\n",
    "}\n",
    "\n",
    "# Convert nanoseconds to milliseconds\n",
    "latencies_ms = {k: v / NANOS_IN_MILLI for k, v in latencies.items()}\n",
    "\n",
    "# Output results\n",
    "print(f\"Total FIX messages processed: {total_count}\")\n",
    "for percentile, latency in latencies_ms.items():\n",
    "    print(f\"{percentile:<6} Latency: {latency:.2f} ms\")"
   ]
  },
  {
   "cell_type": "code",
   "execution_count": null,
   "id": "57c71b9b-653e-4943-97ba-85a10ef72056",
   "metadata": {},
   "outputs": [],
   "source": []
  }
 ],
 "metadata": {
  "kernelspec": {
   "display_name": "Python 3 (ipykernel)",
   "language": "python",
   "name": "python3"
  },
  "language_info": {
   "codemirror_mode": {
    "name": "ipython",
    "version": 3
   },
   "file_extension": ".py",
   "mimetype": "text/x-python",
   "name": "python",
   "nbconvert_exporter": "python",
   "pygments_lexer": "ipython3",
   "version": "3.10.12"
  }
 },
 "nbformat": 4,
 "nbformat_minor": 5
}
